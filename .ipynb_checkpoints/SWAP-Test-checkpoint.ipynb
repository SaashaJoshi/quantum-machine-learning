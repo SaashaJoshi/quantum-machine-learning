{
 "cells": [
  {
   "cell_type": "markdown",
   "id": "smooth-craps",
   "metadata": {},
   "source": [
    "SWAP test is used to calculate the fidelity of quantum states.  \n",
    "Fidelity referes to the overlap of the states.  \n",
    "Inner product also gives the overlap of quantum states.  \n",
    "\n",
    "Inner Product == SWAP Test == Fidelity"
   ]
  },
  {
   "cell_type": "code",
   "execution_count": 1,
   "id": "nonprofit-horizontal",
   "metadata": {},
   "outputs": [],
   "source": [
    "import pennylane as qml\n",
    "from pennylane import numpy as np"
   ]
  },
  {
   "cell_type": "code",
   "execution_count": 8,
   "id": "documentary-symbol",
   "metadata": {},
   "outputs": [],
   "source": [
    "dev = qml.device('default.qubit', wires = 3)\n",
    "\n",
    "@qml.qnode(dev)\n",
    "def circuit():\n",
    "    qml.BasisState(np.array([1]), wires = 2)\n",
    "    qml.Hadamard(wires = 0)\n",
    "    qml.CSWAP(wires = [0, 1, 2])\n",
    "    qml.Hadamard(wires = 0)\n",
    "    return qml.expval(qml.PauliZ(wires = 0))"
   ]
  },
  {
   "cell_type": "code",
   "execution_count": 9,
   "id": "blond-literacy",
   "metadata": {},
   "outputs": [
    {
     "name": "stdout",
     "output_type": "stream",
     "text": [
      "0.0\n"
     ]
    }
   ],
   "source": [
    "print(circuit())"
   ]
  },
  {
   "cell_type": "code",
   "execution_count": 10,
   "id": "organized-midwest",
   "metadata": {},
   "outputs": [
    {
     "name": "stdout",
     "output_type": "stream",
     "text": [
      " 0: ──H────╭C─────H──┤ ⟨Z⟩ \n",
      " 1: ───────├SWAP─────┤     \n",
      " 2: ──|1⟩──╰SWAP─────┤     \n",
      "\n"
     ]
    }
   ],
   "source": [
    "print(circuit.draw())"
   ]
  },
  {
   "cell_type": "code",
   "execution_count": null,
   "id": "special-athletics",
   "metadata": {},
   "outputs": [],
   "source": []
  }
 ],
 "metadata": {
  "kernelspec": {
   "display_name": "Python 3",
   "language": "python",
   "name": "python3"
  },
  "language_info": {
   "codemirror_mode": {
    "name": "ipython",
    "version": 3
   },
   "file_extension": ".py",
   "mimetype": "text/x-python",
   "name": "python",
   "nbconvert_exporter": "python",
   "pygments_lexer": "ipython3",
   "version": "3.9.1"
  }
 },
 "nbformat": 4,
 "nbformat_minor": 5
}
